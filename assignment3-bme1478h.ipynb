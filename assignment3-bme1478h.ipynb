{
  "metadata": {
    "kernelspec": {
      "name": "python",
      "display_name": "Python (Pyodide)",
      "language": "python"
    },
    "language_info": {
      "codemirror_mode": {
        "name": "python",
        "version": 3
      },
      "file_extension": ".py",
      "mimetype": "text/x-python",
      "name": "python",
      "nbconvert_exporter": "python",
      "pygments_lexer": "ipython3",
      "version": "3.8"
    }
  },
  "nbformat_minor": 4,
  "nbformat": 4,
  "cells": [
    {
      "cell_type": "markdown",
      "source": "# Assignment #3, Introduction to Python:\n\n1. Simulate bacterial population size data that follows an exponential growth.\n\na. Set the initial population, 100, in a variable named `N0`. The growth rate, `rate`, is 0.4. (1 mark)  \n\nb. Use the suitable numpy function to generate an array of time points from 0 to 10 seconds, in 0.2 second increments and store the result in a variable called `t`. (1 mark)  \nc. In a variable named `population_size`, calculate the population of the colony at the time points in t, using the exponential growth function.    \n    Reminder, the formula for exponential growth is:\n\npopulation_size = $ N_0e^{rt} $\n\nwhere e is the exponential function (in Python, Numpy has an exponentioal function to calculate this), `r` is the rate, and `t` is time. Print `population_size`, it output should be an array of bacterial population size for each time point in `t`. (1 mark)\n\nd. In a a new variable called `population_size_noise`, use the same expression you wrote in (c), and add noise to the population at each time point. Do this by adding an expression that generates a random value for each time point drawn from a normal distribution of `mean=0` and `stdev 250`. Try using the Numpy function for normal distribution. It should look something like:\n\n        population_size_noise = expression_from_part_a + expression_to_add_noise\n       \n(1 mark)\n\n2. Let's assume we don't know the rate of the population growth, but we do have the data of the population size across time. Using the data you simulated in `population_size_noise`, estimate the rate by iterating over a range of parameter values and choosing the one with the best fit to the data.  \n    a. In a variable called `range_rate`, define a range of parameters to try from 0.1, up to and including 1, of step size 0.1 (1 mark)  \n    b. Write a function called `squared_error` to take the predicted data from a given growth rate, and the observed data to evaluate quality of the fit. It should take two parameters, and return one value, the mean squared error:  \n        Input arguments  \n        - prediction: an array of the predicted data  \n        - data: an array of the observed data  \n        Output arguments  \n        - mse: a float containing the calculated mean square error\n    \n    Fill in the blanks with the missing code to complete this question, (i.e. remove all ___ with your code) (1 mark)\n    ```\n    def _____(_____):\n        residual = _____ # the difference between our prediction and data\n        mse = _____ # use the residual to calculate the mean squared error\n        _____ # return the result\n    ```\n    c. Now that we have a way to test the fit of our estimation, use the function we wrote in (b) to iterate over `range_rate` to find the value with the smallest error.\n    Fill in the blanks with the missing code to complete this question, (i.e. remove all ___ with your code) (2 marks)\n\n    ```\n    mse = [] # initialize a list to store our results\n    for _____ in _____:\n        prediction = _____\n        error = _____\n        mse._____(_____)\n\n    # find the index of the minimum value in mse\n    idx_min_mse = _____\n    # use the index of the min value in mse to obtain the corresponding rate\n    # remember the arrays are the same size, and generated in order when iterating over range_rates\n    best_fit = _____\n\n    print('We predict the rate of growth of this bacterial population to be',best_fit)\n    ```\n    \n**remember that your code should be fully commented meaning that every section and line should be preceded by a comment that describes what the next line performs**",
      "metadata": {}
    },
    {
      "cell_type": "code",
      "source": "import numpy as np\n\n# Question 1a: Set initial population (N0) and growth rate\nN0 = 100\nrate = 0.4\n# Question 1b: Generate array of time points from 0 to 10 seconds, in 0.2 second increments\nt = np.arange(0, 10.2, 0.2)\n# Question 1c: Calculate the population size using exponential growth formula\npopulation_size = N0 * np.exp(rate * t)\n# Question 1d: Add noise to the population size\npopulation_size_noise = population_size + np.random.normal(0, 250, size=t.shape)\n\n\n\n# Question 2 Begins\n# Question 2a: Define a range of growth rates from 0.1 to 1, with a step size of 0.1\nrange_rate = np.arange(0.1, 1.1, 0.1)\n# Question 2b: Define the function to calculate the mean squared error (MSE)\ndef squared_error(prediction, data):\n    residual = prediction - data  # the difference between our prediction and data\n    mse = np.mean(residual ** 2)  # use the residual to calculate the mean squared error\n    # return the value of the mse\n    return mse\n\n# Initialize list to store MSE values for each rate\nmse_list = [] \n\n# Question 2c: Iterate over the range of rates and find the rate with the smallest MSE\nfor r in range_rate:\n    # Calculate the predicted population size using the current rate\n    predicted_population = N0 * np.exp(r * t)\n    # Calculate the MSE between predicted and observed (noisy) data\n    error = squared_error(predicted_population, population_size_noise)\n    # Store the MSE value in the list\n    mse_list.append(error)\n\n# find the index of the minimum value in mse\nidx_min_mse = np.argmin(mse_list)\n# use the index of the min value in mse to obtain the corresponding rate\nbest_fit = range_rate[idx_min_mse]\n# remember the arrays are the same size, and generated in order when iterating over range_rates\nprint('We predict the rate of growth of this bacterial population to be',best_fit)\n\n",
      "metadata": {
        "trusted": true
      },
      "outputs": [
        {
          "name": "stdout",
          "text": "We predict the rate of growth of this bacterial population to be 0.4\n",
          "output_type": "stream"
        }
      ],
      "execution_count": 4
    },
    {
      "cell_type": "code",
      "source": "",
      "metadata": {
        "trusted": true
      },
      "outputs": [],
      "execution_count": null
    }
  ]
}