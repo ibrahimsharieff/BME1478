{
  "metadata": {
    "kernelspec": {
      "name": "python",
      "display_name": "Python (Pyodide)",
      "language": "python"
    },
    "language_info": {
      "codemirror_mode": {
        "name": "python",
        "version": 3
      },
      "file_extension": ".py",
      "mimetype": "text/x-python",
      "name": "python",
      "nbconvert_exporter": "python",
      "pygments_lexer": "ipython3",
      "version": "3.8"
    }
  },
  "nbformat_minor": 4,
  "nbformat": 4,
  "cells": [
    {
      "cell_type": "markdown",
      "source": "# Assignment 4 - Classes and analyzing data from multiple files \n\n## Completing and Submitting the Assignment\n- Follow the instructions to fill in the code in this jupyter notebook template to complete the assignment. \n- Places where you need to change or add something are denoted with **# TODO**\n\n- Rename your completed version of this notebook so that your last and first name are filled in the file name\n    - e.g \"Garton_Michael_assignment4.ipynb\"\n- Export as a Python script .py file with the same filename:\n    - e.g. \"Garton_Michael_assignment4.py\n- Upload both .ipynb and .py files to Quercus Assignment 4.\n\n## Setup (1 mark)\n1. Download the .zip of data files from Quercus or here (http://swcarpentry.github.io/python-novice-inflammation/data/python-novice-inflammation-data.zip) and extract the /data/ folder and all of it's contents **into to the same folder as you downloaded this notebook**. **(0.5 marks)**\n\nThis is required and will make sure all relative paths are the same across student submissions when marking. \nIt should have this structure\n```\nmain_directory\n│   last_first_assignment4.ipynb\n│   last_first_assignment4.py # a copy of the .ipynb exported as a script\n│\n│   # you can have other things in this folder, the key thing is data/ is in the same directory as your .ipynb and .py\n│\n└───data/\n│   │   inflammation-01.csv\n│   │   inflammation-01.csv\n│   │   ...\n│   │   inflammation-12.csv\n│   │   small-01.csv\n│   │   small-02.csv\n│   │   small-03.csv\n│\n```",
      "metadata": {}
    },
    {
      "cell_type": "markdown",
      "source": "## 1. Reading in our files and analyzing the data (2.5 marks)\n\nWe want to read in data from an arthritis study that followed 60 patients in a longitudinal study. This happened 12 times over the course of the study, resulting in 12 different data files. \n\na. Make a list of **only** the .csv file paths that start with `inflammation` using `glob.glob()` and store in a variable named `fnames`. **(0.5 marks)**",
      "metadata": {}
    },
    {
      "cell_type": "code",
      "source": "# import libraries we will use \nimport glob\nimport numpy as np\n\n# TODO: fix this line to solve (a) \nfnames = glob.glob(\"./data/inflammation*.csv\")",
      "metadata": {
        "trusted": true
      },
      "outputs": [],
      "execution_count": 1
    },
    {
      "cell_type": "markdown",
      "source": "# right now it includes all .csv files including small-xx.csv which we don't want\nfnames.sort() # this just sorts them alphabetically\nprint(fnames) # confirm only inflammation files listed",
      "metadata": {}
    },
    {
      "cell_type": "markdown",
      "source": "\nb. Read in the first file in that list using `np.loadtxt()`, providing a filename and specifiying the `delimiter=','` and store in the variable `dt`. **(0.5 marks)**",
      "metadata": {}
    },
    {
      "cell_type": "code",
      "source": "# TODO: (b)\ndt = np.loadtxt(fnames[0], delimiter=',')",
      "metadata": {
        "trusted": true
      },
      "outputs": [],
      "execution_count": 2
    },
    {
      "cell_type": "markdown",
      "source": "c. Define a function `patient_summary()` that summarizes the data using either \"mean\", \"max\" or \"min\" across patients **(0.5 marks)**\n  - `patient_summary(data, operation)` should take a numpy array of data from our files, as well as a string (\"mean\", \"max\" or \"min\") describing what operation to use summarize the data over the course of the 40 days across **each patient**.\n  - note: the shape of the output should be the same size as the number of patients (i.e. 60)\n",
      "metadata": {}
    },
    {
      "cell_type": "code",
      "source": "def patient_summary(data, operation):\n    # TODO: specify the axis, 0 or 1\n    ax = 1\n    \n    # TODO: fill in the rest of the if(and or elif/else) statements\n    if operation == 'mean':\n        summary_values = data.mean(axis=ax)\n    elif operation == 'max':\n        summary_values = data.max(axis=ax)\n    else:\n        summary_values = data.min(axis=ax)\n    \n    \n    \n    \n    return summary_values\n",
      "metadata": {
        "trusted": true
      },
      "outputs": [],
      "execution_count": 3
    },
    {
      "cell_type": "code",
      "source": "# test it out on the data file we read in and make sure the size is what we expect\ndt_min = patient_summary(dt, 'min')\nprint(len(dt_min))",
      "metadata": {
        "trusted": true
      },
      "outputs": [
        {
          "name": "stdout",
          "text": "60\n",
          "output_type": "stream"
        }
      ],
      "execution_count": 4
    },
    {
      "cell_type": "markdown",
      "source": "Sometimes, data entry results in some errors. We can programmatically screen for certain errors. \n\nFor example, if a patient has a mean inflammation of 0, this may indicate a healthy individual was misgrouped into this dataset, or some other issue requiring further attention. \n\nd. Define a function, `detect_problems()` that can check for issues that may have come from data input errors **(1 mark)**\n   - `detect_problems(data)` should take a numpy array of the data from one of our experiment files\n   - we created a helper function `check_zeros(x)` that returns True or False if there are values of zero in an array\n   - combine the results of `patient_summary()` with our helper function `check_zeros()` to create your new `detect_problems()` function\n   - return True or False depending whether a problem was found. \n",
      "metadata": {}
    },
    {
      "cell_type": "code",
      "source": "# Run this cell so you can use this premade helper function to do the check \n# for values in an array that equal 0, DO NOT MODIFY THIS CODE\ndef check_zeros(x):\n    '''\n    Given an array, x, check whether any values in x equal 0.\n    Return True if any values found, else returns False.\n    '''\n    # np.where() checks every value in x against the condition (x == 0) \n    # and returns a tuple of indices where it was True (i.e. x was 0)\n    flag = np.where(x == 0)[0] \n    \n    # We can check if there are any objects in flag (i.e. not empty)\n    # If not empty, it found at least one zero, so flag is True. And vice-versa.\n    flag = len(flag) > 0\n    \n    return flag",
      "metadata": {
        "trusted": true
      },
      "outputs": [],
      "execution_count": 5
    },
    {
      "cell_type": "markdown",
      "source": "It is not necessary to understand all the code inside the helper function, but when using code others have written, you should have a good idea of:\n1. what goes IN the function (x, an array of numbers) \n2. what comes OUT of the function (True or False) \n3. what the output means (True if 0 found in array, False if no 0 found).",
      "metadata": {}
    },
    {
      "cell_type": "code",
      "source": "# example usage of check_zeros\nvalues_0 = np.array([12,0,8,9,1])\nvalues_1 = np.array([1,1,1,1,1])\n\nprint(check_zeros(values_0))\nprint(check_zeros(values_1))",
      "metadata": {
        "trusted": true
      },
      "outputs": [
        {
          "name": "stdout",
          "text": "True\nFalse\n",
          "output_type": "stream"
        }
      ],
      "execution_count": 6
    },
    {
      "cell_type": "markdown",
      "source": "Write your function here",
      "metadata": {}
    },
    {
      "cell_type": "code",
      "source": "# TODO: Define your function `detect_problems` here \n# using patient_summary() to get the means and check_zeros() to check for zeros in the means\n\ndef detect_problems(data):\n    # Get the mean inflammation across the 40 days for each patient\n    mean_values = patient_summary(data, 'mean')\n    \n    # Use the helper function to check if there are any zeros in the mean values\n    problem_found = check_zeros(mean_values)\n    \n    return problem_found\n",
      "metadata": {
        "trusted": true
      },
      "outputs": [],
      "execution_count": 9
    },
    {
      "cell_type": "markdown",
      "source": "## 2. Creating an experiment class (4.5 marks)",
      "metadata": {}
    },
    {
      "cell_type": "markdown",
      "source": "Let's store our experiments in a class. Each instance will be ONE experiment consisting of measurements from 60 patients over 40 days in the arthritis and inflammation study:\n- Each instance object comes from one of the 12 sessions i.e. one `Experiment()` = one data file/data collection period.\n- We can also bundle all the functions we've made above that operate on these data files into one class.\n\nModify the cell below to accomplish the following:\n\na. Create two **class attributes** named **study** to store the string \"arthritis\", and another named **experimenter** to store the string \"Dr. Aria\" **(1 mark)**  \nb. Define a new method `add_data()` that reads in a .csv and stores the result in the pre-existing .data attribute that was made during `__init__()`. Don't forget the delimiter. **(1 mark)**  \nc. Define a new method `patient_summary(self, operation)`. It is the same as the one we have already written, BUT it does not take `data` as an argument anymore (but still takes `operation`). The method reads from an instance's state to access what is in `.data`. It should still return summary values per patient for the given operation. **(1 mark)**",
      "metadata": {}
    },
    {
      "cell_type": "code",
      "source": "# TODO: modify this basic class as per the instructions above\nclass Experiment:\n    # Class attributes\n    study = \"arthritis\"\n    experimenter = \"Dr. Aria\"\n    \n    def __init__(self, session_no):\n        self.session_no = session_no  # Store session number\n        self.data = None  # Data will be added using add_data()\n    \n    # Method to read in data from a .csv file\n    def add_data(self, file_path):\n        # Use np.loadtxt to read in the data, assuming the delimiter is a comma\n        self.data = np.loadtxt(file_path, delimiter=',')\n    \n    # Method to perform the patient summary\n    def patient_summary(self, operation):\n        ax = 1  # Axis 1 summarizes across 40 days for each patient\n        \n        if operation == 'mean':\n            summary_values = self.data.mean(axis=ax)\n        elif operation == 'max':\n            summary_values = self.data.max(axis=ax)\n        else:\n            summary_values = self.data.min(axis=ax)\n        \n        return summary_values\n",
      "metadata": {
        "trusted": true
      },
      "outputs": [],
      "execution_count": 11
    },
    {
      "cell_type": "markdown",
      "source": "**Putting it all together.** \n\nd. Loop over `fnames` created earlier with all the `inflammation-xx.csv` files and create one instance of the Experiment() class per file. These do not need to be stored beyond inside the loop (e.g. we don't need to save all the Experiments in a list). Only print the filenames where the data was flagged in that experiment. **(1.5 marks)** \n\nWe have written the code for you, but you need to move them around to make the code functional (including adding indents where necessary).\n\nNote: We can assume that the filenames are ordered such that they reflect the order of data collection (e.g. inflammation-01.csv is session # 1).\n\n",
      "metadata": {}
    },
    {
      "cell_type": "code",
      "source": "# TODO: move these lines around and indent as necessary to make it work again, it *should* find three files.\nsession_counter = 1 # initialize counter\n\nfor f in fnames: # iterate over data files\n    exp = Experiment(session_counter) # create an instance of our experiment and give it a session_no\n    \n    exp.add_data(f) # read in our data to our experiment\n    \n    values = exp.patient_summary(\"mean\") # get our patient means\n    \n    if check_zeros(values): # check whether any 0s in our means\n        print(f) # print filename\n\n    session_counter += 1 # increment our counter to the next session number",
      "metadata": {
        "trusted": true
      },
      "outputs": [
        {
          "name": "stdout",
          "text": "./data/inflammation-03.csv\n./data/inflammation-08.csv\n./data/inflammation-11.csv\n",
          "output_type": "stream"
        }
      ],
      "execution_count": 12
    },
    {
      "cell_type": "markdown",
      "source": "## Finishing Up\n1. Rename this file if you haven't already replacing the words in the filename with your actual last and first name\n2. Export as a .py and submit BOTH .ipynb and .py files\n3. Make sure you haven't changed any variable names we specifically asked you to define as such. ",
      "metadata": {}
    },
    {
      "cell_type": "markdown",
      "source": "",
      "metadata": {}
    }
  ]
}